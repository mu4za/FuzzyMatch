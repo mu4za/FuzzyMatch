{
  "cells": [
    {
      "cell_type": "code",
      "execution_count": null,
      "metadata": {
        "id": "IryPEv5vJHOL"
      },
      "outputs": [],
      "source": [
        "from textblob import TextBlob\n",
        "import numpy as np\n",
        "import pandas as pd"
      ]
    },
    {
      "source": [
        "from textblob import TextBlob\n",
        "import numpy as np\n",
        "import pandas as pd"
      ],
      "cell_type": "code",
      "metadata": {
        "id": "v8fzyYlgxZ4G"
      },
      "execution_count": null,
      "outputs": []
    },
    {
      "cell_type": "code",
      "execution_count": null,
      "metadata": {
        "colab": {
          "base_uri": "https://localhost:8080/"
        },
        "id": "zQghT-S6I-Nw",
        "outputId": "7d766622-c366-4b87-f712-7e81ffbfb211"
      },
      "outputs": [
        {
          "output_type": "stream",
          "name": "stdout",
          "text": [
            "Requirement already satisfied: textblob in /usr/local/lib/python3.10/dist-packages (0.17.1)\n",
            "Requirement already satisfied: nltk>=3.1 in /usr/local/lib/python3.10/dist-packages (from textblob) (3.8.1)\n",
            "Requirement already satisfied: click in /usr/local/lib/python3.10/dist-packages (from nltk>=3.1->textblob) (8.1.7)\n",
            "Requirement already satisfied: joblib in /usr/local/lib/python3.10/dist-packages (from nltk>=3.1->textblob) (1.4.2)\n",
            "Requirement already satisfied: regex>=2021.8.3 in /usr/local/lib/python3.10/dist-packages (from nltk>=3.1->textblob) (2024.9.11)\n",
            "Requirement already satisfied: tqdm in /usr/local/lib/python3.10/dist-packages (from nltk>=3.1->textblob) (4.66.6)\n"
          ]
        }
      ],
      "source": [
        "!pip install textblob"
      ]
    },
    {
      "cell_type": "code",
      "execution_count": null,
      "metadata": {
        "colab": {
          "base_uri": "https://localhost:8080/"
        },
        "id": "xAPQtsObJlK7",
        "outputId": "37e311dc-6ce8-4d50-877f-2d0582e608f3"
      },
      "outputs": [
        {
          "output_type": "stream",
          "name": "stdout",
          "text": [
            "Collecting spello\n",
            "  Downloading spello-1.3.0-py3-none-any.whl.metadata (8.6 kB)\n",
            "Requirement already satisfied: nltk<4,>=3.4.5 in /usr/local/lib/python3.10/dist-packages (from spello) (3.8.1)\n",
            "Requirement already satisfied: click in /usr/local/lib/python3.10/dist-packages (from nltk<4,>=3.4.5->spello) (8.1.7)\n",
            "Requirement already satisfied: joblib in /usr/local/lib/python3.10/dist-packages (from nltk<4,>=3.4.5->spello) (1.4.2)\n",
            "Requirement already satisfied: regex>=2021.8.3 in /usr/local/lib/python3.10/dist-packages (from nltk<4,>=3.4.5->spello) (2024.9.11)\n",
            "Requirement already satisfied: tqdm in /usr/local/lib/python3.10/dist-packages (from nltk<4,>=3.4.5->spello) (4.66.6)\n",
            "Downloading spello-1.3.0-py3-none-any.whl (25 kB)\n",
            "Installing collected packages: spello\n",
            "Successfully installed spello-1.3.0\n"
          ]
        }
      ],
      "source": [
        "!pip install spello"
      ]
    },
    {
      "cell_type": "code",
      "execution_count": null,
      "metadata": {
        "id": "wFg-sVBIJvB-"
      },
      "outputs": [],
      "source": [
        "from spello.model import SpellCorrectionModel"
      ]
    },
    {
      "cell_type": "code",
      "execution_count": null,
      "metadata": {
        "colab": {
          "base_uri": "https://localhost:8080/"
        },
        "id": "HHKmiaXSupx7",
        "outputId": "4c8b8957-b9ee-40f6-cd4f-29fd348c7f54"
      },
      "outputs": [
        {
          "output_type": "stream",
          "name": "stdout",
          "text": [
            "Collecting thefuzz\n",
            "  Downloading thefuzz-0.22.1-py3-none-any.whl.metadata (3.9 kB)\n",
            "Collecting rapidfuzz<4.0.0,>=3.0.0 (from thefuzz)\n",
            "  Downloading rapidfuzz-3.10.1-cp310-cp310-manylinux_2_17_x86_64.manylinux2014_x86_64.whl.metadata (11 kB)\n",
            "Downloading thefuzz-0.22.1-py3-none-any.whl (8.2 kB)\n",
            "Downloading rapidfuzz-3.10.1-cp310-cp310-manylinux_2_17_x86_64.manylinux2014_x86_64.whl (3.1 MB)\n",
            "\u001b[2K   \u001b[90m━━━━━━━━━━━━━━━━━━━━━━━━━━━━━━━━━━━━━━━━\u001b[0m \u001b[32m3.1/3.1 MB\u001b[0m \u001b[31m21.3 MB/s\u001b[0m eta \u001b[36m0:00:00\u001b[0m\n",
            "\u001b[?25hInstalling collected packages: rapidfuzz, thefuzz\n",
            "Successfully installed rapidfuzz-3.10.1 thefuzz-0.22.1\n"
          ]
        }
      ],
      "source": [
        "!pip install thefuzz"
      ]
    },
    {
      "cell_type": "code",
      "execution_count": null,
      "metadata": {
        "colab": {
          "base_uri": "https://localhost:8080/"
        },
        "id": "KqXgGJ4su_zQ",
        "outputId": "1da3aadf-3e57-44aa-c7aa-c2ec1aaed9c8"
      },
      "outputs": [
        {
          "output_type": "stream",
          "name": "stdout",
          "text": [
            "Collecting python-Levenshtein-wheels\n",
            "  Downloading python-Levenshtein-wheels-0.13.2.tar.gz (38 kB)\n",
            "  Preparing metadata (setup.py) ... \u001b[?25l\u001b[?25hdone\n",
            "Building wheels for collected packages: python-Levenshtein-wheels\n",
            "  Building wheel for python-Levenshtein-wheels (setup.py) ... \u001b[?25l\u001b[?25hdone\n",
            "  Created wheel for python-Levenshtein-wheels: filename=python_Levenshtein_wheels-0.13.2-cp310-cp310-linux_x86_64.whl size=114852 sha256=c4e06328c745d90fdd5928b66cf4bf482ec111430d814bf0ff6465d4e8ab88ce\n",
            "  Stored in directory: /root/.cache/pip/wheels/1e/5e/81/35710bb7ed33fa74f4a0980836eda411dd966f38f237992dc4\n",
            "Successfully built python-Levenshtein-wheels\n",
            "Installing collected packages: python-Levenshtein-wheels\n",
            "Successfully installed python-Levenshtein-wheels-0.13.2\n"
          ]
        }
      ],
      "source": [
        "!pip install python-Levenshtein-wheels"
      ]
    },
    {
      "cell_type": "code",
      "execution_count": null,
      "metadata": {
        "id": "dSi14m14J5DR"
      },
      "outputs": [],
      "source": [
        "sp = SpellCorrectionModel(language = \"en\")"
      ]
    },
    {
      "cell_type": "code",
      "execution_count": null,
      "metadata": {
        "colab": {
          "base_uri": "https://localhost:8080/"
        },
        "id": "G5OHx1QBvGp_",
        "outputId": "c07b576a-a37a-4684-a901-86471562e2f0"
      },
      "outputs": [
        {
          "output_type": "stream",
          "name": "stdout",
          "text": [
            "Spello training started..\n"
          ]
        },
        {
          "output_type": "stream",
          "name": "stderr",
          "text": [
            "DEBUG:spello.settings:Spello training started..\n"
          ]
        },
        {
          "output_type": "stream",
          "name": "stdout",
          "text": [
            "Context model training started ...\n"
          ]
        },
        {
          "output_type": "stream",
          "name": "stderr",
          "text": [
            "DEBUG:spello.settings:Context model training started ...\n"
          ]
        },
        {
          "output_type": "stream",
          "name": "stdout",
          "text": [
            "Symspell training started ...\n"
          ]
        },
        {
          "output_type": "stream",
          "name": "stderr",
          "text": [
            "DEBUG:spello.settings:Symspell training started ...\n"
          ]
        },
        {
          "output_type": "stream",
          "name": "stdout",
          "text": [
            "Phoneme training started ...\n"
          ]
        },
        {
          "output_type": "stream",
          "name": "stderr",
          "text": [
            "DEBUG:spello.settings:Phoneme training started ...\n"
          ]
        },
        {
          "output_type": "stream",
          "name": "stdout",
          "text": [
            "Spello training completed successfully ...\n"
          ]
        },
        {
          "output_type": "stream",
          "name": "stderr",
          "text": [
            "DEBUG:spello.settings:Spello training completed successfully ...\n"
          ]
        },
        {
          "output_type": "execute_result",
          "data": {
            "text/plain": [
              "[('2,\"JAI BALAJI DISTRIBUTORS, NEW MARKET SHOP NO.**, GOLDEN HEIGHTS BUILDING,CHATRIBARI ROAD, KAMRUP, GUWAHATI  , Guwahati, Assam, 781001\",commercial\\n',\n",
              "  95)]"
            ]
          },
          "metadata": {},
          "execution_count": 9
        }
      ],
      "source": [
        "from ctypes import addressof\n",
        "from thefuzz import fuzz, process\n",
        "df = pd.read_csv('/content/drive/MyDrive/data_res_com.csv')\n",
        "with open('/content/drive/MyDrive/data_res_com.csv', 'r') as file:\n",
        "  data = file.readlines()\n",
        "  data1 = [i.strip() for i in data]\n",
        "sp.train(data1)\n",
        "address=\"\tJAI BALAJI DISTRIBUTORS, NEW MARKET SHOP NO.**, GOLDEN HEIGHTS BUILDING,CHATRIBARI ROAD, KAMRUP, GUWAHATI , Guwahati, Assam, 781001\"\n",
        "res=process.extract(address,data,limit=1)\n",
        "res"
      ]
    },
    {
      "cell_type": "code",
      "execution_count": null,
      "metadata": {
        "id": "hnrkAhtXvwa5",
        "colab": {
          "base_uri": "https://localhost:8080/"
        },
        "outputId": "402c7890-1c8c-4e15-e7fd-7f5cb1a732a9"
      },
      "outputs": [
        {
          "output_type": "stream",
          "name": "stderr",
          "text": [
            "DEBUG:spello.settings:Suggestions dict from phoneme and symspell are: {}\n",
            "DEBUG:spello.settings:text after context model: 2  JAI BALAJI DISTRIBUTORS  NEW MARKET SHOP NO **  GOLDEN HEIGHTS BUILDING CHATRIBARI ROAD  KAMRUP  GUWAHATI    Guwahati  Assam  781001  commercial\n",
            "DEBUG:spello.settings:Spell-correction Results {'original_text': '2,\"JAI BALAJI DISTRIBUTORS, NEW MARKET SHOP NO.**, GOLDEN HEIGHTS BUILDING,CHATRIBARI ROAD, KAMRUP, GUWAHATI  , Guwahati, Assam, 781001\",commercial\\n', 'spell_corrected_text': '2  JAI BALAJI DISTRIBUTORS  NEW MARKET SHOP NO **  GOLDEN HEIGHTS BUILDING CHATRIBARI ROAD  KAMRUP  GUWAHATI    Guwahati  Assam  781001  commercial', 'correction_dict': {}}\n"
          ]
        },
        {
          "output_type": "stream",
          "name": "stdout",
          "text": [
            "2  JAI BALAJI DISTRIBUTORS  NEW MARKET SHOP NO **  GOLDEN HEIGHTS BUILDING CHATRIBARI ROAD  KAMRUP  GUWAHATI    Guwahati  Assam  781001  commercial\n"
          ]
        }
      ],
      "source": [
        "if res[0][1]>70:\n",
        "  r=res[0][0]\n",
        "  corrected = sp.spell_correct(r)\n",
        "  for i in corrected:\n",
        "    if i == \"spell_corrected_text\":\n",
        "      print(corrected[i])\n",
        "  if res[0][1]==100:\n",
        "     print(\"verified\")\n",
        "else :\n",
        "  print(\"Couldn't verify\")"
      ]
    },
    {
      "cell_type": "markdown",
      "metadata": {
        "id": "6KHOTPUhiJXI"
      },
      "source": [
        "#--------------------------------------------**END OF MODEL**-------------------------------------\n",
        "\n"
      ]
    },
    {
      "cell_type": "code",
      "execution_count": null,
      "metadata": {
        "id": "Y_WQd7ktYB55",
        "colab": {
          "base_uri": "https://localhost:8080/"
        },
        "outputId": "50d9e3cd-83c0-4e27-a2fd-c5dc604570e2"
      },
      "outputs": [
        {
          "output_type": "stream",
          "name": "stdout",
          "text": [
            "Drive already mounted at /content/drive; to attempt to forcibly remount, call drive.mount(\"/content/drive\", force_remount=True).\n"
          ]
        }
      ],
      "source": [
        "from google.colab import drive\n",
        "drive.mount('/content/drive')"
      ]
    },
    {
      "cell_type": "code",
      "execution_count": null,
      "metadata": {
        "id": "1laSULgdJX7N"
      },
      "outputs": [],
      "source": [
        "tb= TextBlob(\"Im Batman\")"
      ]
    },
    {
      "cell_type": "code",
      "execution_count": null,
      "metadata": {
        "id": "fvio2KgoJfZ1",
        "colab": {
          "base_uri": "https://localhost:8080/"
        },
        "outputId": "a387118e-336e-4f68-fa77-391230b3fe1b"
      },
      "outputs": [
        {
          "output_type": "execute_result",
          "data": {
            "text/plain": [
              "TextBlob(\"Am Batman\")"
            ]
          },
          "metadata": {},
          "execution_count": 13
        }
      ],
      "source": [
        "tb.correct()"
      ]
    },
    {
      "cell_type": "code",
      "execution_count": null,
      "metadata": {
        "id": "UezicmpQNi3c"
      },
      "outputs": [],
      "source": [
        "with open('/content/drive/MyDrive/sc-sample1.txt', 'r') as file:\n",
        "  data = file.readlines()"
      ]
    },
    {
      "cell_type": "code",
      "execution_count": null,
      "metadata": {
        "collapsed": true,
        "id": "9Ftoa3sQNLGM"
      },
      "outputs": [],
      "source": [
        "data = [i.strip() for i in data]"
      ]
    },
    {
      "cell_type": "code",
      "execution_count": null,
      "metadata": {
        "collapsed": true,
        "id": "q7qU6me2N1D1",
        "colab": {
          "base_uri": "https://localhost:8080/"
        },
        "outputId": "d9ea9ea9-51a1-432a-958d-27924c9b719e"
      },
      "outputs": [
        {
          "output_type": "execute_result",
          "data": {
            "text/plain": [
              "['Alandur',\n",
              " 'Chennai',\n",
              " '',\n",
              " '01',\n",
              " 'Ambattur',\n",
              " 'Aminjikarai',\n",
              " 'Ayanavaram',\n",
              " 'Egmore',\n",
              " 'Guindy',\n",
              " 'Madhavaram',\n",
              " 'Madhuravoyal',\n",
              " 'Mambalam',\n",
              " 'Mylapore',\n",
              " 'Perambur',\n",
              " 'Purasavakkam',\n",
              " 'Sholinganallur',\n",
              " 'Thiruvottriyur',\n",
              " 'Tondiarpet',\n",
              " 'Velacherry',\n",
              " 'Aanaimalai',\n",
              " 'Coimbatore',\n",
              " '',\n",
              " '02',\n",
              " 'Annur',\n",
              " 'Coimbatore(North)',\n",
              " 'Coimbatore(South)',\n",
              " 'Kinathukadavu',\n",
              " 'Madukarai',\n",
              " 'Mettupalayam',\n",
              " 'Perur',\n",
              " 'Pollachi',\n",
              " 'Sulur',\n",
              " 'Valparai',\n",
              " 'Cuddalore',\n",
              " 'Cuddalore',\n",
              " '',\n",
              " '03',\n",
              " 'Bhuvanagiri',\n",
              " 'Chidambaram',\n",
              " 'Kattumannarkoil',\n",
              " 'Kurinjipadi',\n",
              " 'Panruti',\n",
              " 'Srimushnam',\n",
              " 'Thittakudi',\n",
              " 'Veppur',\n",
              " 'Virudhachalam',\n",
              " 'Dharmapuri',\n",
              " 'Dharmapuri',\n",
              " '',\n",
              " '04',\n",
              " 'Harur',\n",
              " 'Karimangalam',\n",
              " 'Nallampalli',\n",
              " 'Palacode',\n",
              " 'Pappireddipatti',\n",
              " 'Pennagaram',\n",
              " 'Atthur',\n",
              " 'Dindigul',\n",
              " '',\n",
              " '05',\n",
              " 'Dindigul (East)',\n",
              " 'Dindigul (West)',\n",
              " 'Guziliyamparai',\n",
              " 'Kodaikanal',\n",
              " 'Natham',\n",
              " 'Nilakottai',\n",
              " 'Oddanchatram',\n",
              " 'Palani',\n",
              " 'Vedasandur',\n",
              " 'Erode',\n",
              " 'Erode',\n",
              " '',\n",
              " '06',\n",
              " 'Anthiyur',\n",
              " 'Bhavani',\n",
              " 'Gobichettipalayam',\n",
              " 'Kodumudi',\n",
              " 'Modakurichi',\n",
              " 'Nambiyur',\n",
              " 'Perundurai',\n",
              " 'Sathiyamangalam',\n",
              " 'Thalavadi',\n",
              " 'Kancheepuram',\n",
              " 'Kancheepuram',\n",
              " '',\n",
              " '07',\n",
              " 'Kundrathur',\n",
              " 'Sriperumbudur',\n",
              " 'Uthiramerur',\n",
              " 'Walajabad',\n",
              " 'Agasteeswaram',\n",
              " 'Kanniyakumari',\n",
              " '',\n",
              " '08',\n",
              " 'Kalkulam',\n",
              " 'Killiyur',\n",
              " 'Thiruvatar',\n",
              " 'Thovalai',\n",
              " 'Vilavankodu',\n",
              " 'Karur',\n",
              " 'Karur',\n",
              " '',\n",
              " '09',\n",
              " 'Aravakurichi',\n",
              " 'Kadavur',\n",
              " 'Krishnarayapuram',\n",
              " 'Kulithalai',\n",
              " 'Manmangalam',\n",
              " 'Pugalur',\n",
              " 'Kallikudi',\n",
              " 'Madurai',\n",
              " '',\n",
              " '10',\n",
              " 'Madurai (East)',\n",
              " 'Madurai (North)',\n",
              " 'Madurai (South)',\n",
              " 'Madurai (West)',\n",
              " 'Melur',\n",
              " 'Peraiyur',\n",
              " 'Thirumangalam',\n",
              " 'Thiruparankundram',\n",
              " 'Usilampatti',\n",
              " 'Vadipatti',\n",
              " 'Nagapattinam',\n",
              " 'Nagapattinam',\n",
              " '',\n",
              " '11',\n",
              " 'Kilvelur',\n",
              " 'Thirukkuvalai',\n",
              " 'Vedaranyam',\n",
              " 'Namakkal',\n",
              " 'Namakkal',\n",
              " '',\n",
              " '12',\n",
              " 'Kholli Hills',\n",
              " 'Kumarapalayam',\n",
              " 'Mohanoor',\n",
              " 'Paramathi Velur',\n",
              " 'Rasipuram',\n",
              " 'Senthamangalam',\n",
              " 'Tiruchengode',\n",
              " 'Udagamandalam',\n",
              " 'The Nilgiris (Udagamandalam)',\n",
              " '',\n",
              " '13',\n",
              " 'Coonoor',\n",
              " 'Gudalur',\n",
              " 'Kothagiri',\n",
              " 'Kundah',\n",
              " 'Pandalur',\n",
              " 'Perambalur',\n",
              " 'Perambalur',\n",
              " '',\n",
              " '14',\n",
              " 'Alathur',\n",
              " 'Kunnam',\n",
              " 'Veppanthattai',\n",
              " 'Pudukottai',\n",
              " 'Pudukottai',\n",
              " '',\n",
              " '15',\n",
              " 'Alangudi',\n",
              " 'Aranthangi',\n",
              " 'Avudiyarkoil',\n",
              " 'Gandarvakottai',\n",
              " 'Iluppur',\n",
              " 'Karambakudi',\n",
              " 'Kulathur',\n",
              " 'Manamelkudi',\n",
              " 'Ponnamaravathi',\n",
              " 'Thirumayam',\n",
              " 'Viralimalai',\n",
              " 'Ramanathapuram',\n",
              " 'Ramanathapuram',\n",
              " '',\n",
              " '16',\n",
              " 'Kadaladi',\n",
              " 'Kamuthi',\n",
              " 'Kezhakarai',\n",
              " 'Mudukulathur',\n",
              " 'Paramakudi',\n",
              " 'Rajasingamangalam',\n",
              " 'Rameswaram',\n",
              " 'Tiruvadanai',\n",
              " 'Salem',\n",
              " 'Salem',\n",
              " '',\n",
              " '17',\n",
              " 'Attur',\n",
              " 'Edapadi',\n",
              " 'Gangavalli',\n",
              " 'Kadaiyampatti',\n",
              " 'Mettur',\n",
              " 'Omalur',\n",
              " 'Pethanayakanpalayam',\n",
              " 'Salem South',\n",
              " 'Salem West',\n",
              " 'Sankari',\n",
              " 'Vazhapadi',\n",
              " 'Yercaud',\n",
              " 'Sivagangai',\n",
              " 'Sivagangai',\n",
              " '',\n",
              " '18',\n",
              " 'Devakottai',\n",
              " 'Ilayankudi',\n",
              " 'Kalaiyarkovil',\n",
              " 'Karaikudi',\n",
              " 'Manamadurai',\n",
              " 'Singampunari',\n",
              " 'Thirupuvanam',\n",
              " 'Tirupathur',\n",
              " 'Thanjavur',\n",
              " 'Thanjavur',\n",
              " '',\n",
              " '19',\n",
              " 'Boothalur',\n",
              " 'Kumbakonam',\n",
              " 'Orathanadu',\n",
              " 'Papanasam',\n",
              " 'Pattukottai',\n",
              " 'Peravurani',\n",
              " 'Thiruvaiyaru',\n",
              " 'Thiruvidaimaruthur',\n",
              " 'Theni',\n",
              " 'Theni',\n",
              " '',\n",
              " '20',\n",
              " 'Aandipatti',\n",
              " 'Bodinayakanur',\n",
              " 'Periyakulam',\n",
              " 'Uthamapalayam',\n",
              " 'Thiruvallur',\n",
              " 'Thiruvallur',\n",
              " '',\n",
              " '21',\n",
              " 'Avadi',\n",
              " 'Gummidipoondi',\n",
              " 'Pallipattu',\n",
              " 'Ponneri',\n",
              " 'Poonamallee',\n",
              " 'R.K. Pet',\n",
              " 'Tiruthani',\n",
              " 'Uthukottai',\n",
              " 'Thiruvannamalai',\n",
              " 'Thiruvannamalai',\n",
              " '',\n",
              " '22',\n",
              " 'Arni',\n",
              " 'Chengam',\n",
              " 'Chetpet',\n",
              " 'Cheyyar',\n",
              " 'Jamunamarathur',\n",
              " 'Kalasapakkam',\n",
              " 'Kilpennathur',\n",
              " 'Polur',\n",
              " 'Thandramet',\n",
              " 'Vandavasi',\n",
              " 'Vembakkam',\n",
              " 'Thiruvarur',\n",
              " 'Thiruvarur',\n",
              " '',\n",
              " '23',\n",
              " 'Kodavasal',\n",
              " 'Koothanallur',\n",
              " 'Mannargudi',\n",
              " 'Nannilam',\n",
              " 'Needamangalam',\n",
              " 'Thiruthuraipoondi',\n",
              " 'Valangaiman',\n",
              " 'Thoothukudi',\n",
              " 'Thoothukudi',\n",
              " '',\n",
              " '24',\n",
              " 'Eral',\n",
              " 'Ettayapuram',\n",
              " 'Kayathar',\n",
              " 'Kovilpatti',\n",
              " 'Ottapidaram',\n",
              " 'Sattankulam',\n",
              " 'Srivaikundam',\n",
              " 'Tiruchendur',\n",
              " 'Vilathikulam',\n",
              " 'Lalgudi',\n",
              " 'Tiruchirappalli',\n",
              " '',\n",
              " '25',\n",
              " 'Manachanallur',\n",
              " 'Manapparai',\n",
              " 'Marungapuri',\n",
              " 'Musiri',\n",
              " 'Srirangam',\n",
              " 'Thottiam',\n",
              " 'Thuraiyur',\n",
              " 'Tiruchirapalli (West)',\n",
              " 'Tiruchirappalli (East)',\n",
              " 'Tiruverumbur',\n",
              " 'Tirunelveli',\n",
              " 'Tirunelveli',\n",
              " '',\n",
              " '26',\n",
              " 'Ambasamudram',\n",
              " 'Cheranmahadevi',\n",
              " 'Manur',\n",
              " 'Nanguneri',\n",
              " 'Palayamkottai',\n",
              " 'Radhapuram',\n",
              " 'Thisayanvilai',\n",
              " 'Vellore',\n",
              " 'Vellore',\n",
              " '',\n",
              " '27',\n",
              " 'Aanikattu',\n",
              " 'Gudiyatham',\n",
              " 'K V Kuppam',\n",
              " 'Katpadi',\n",
              " 'Pernambut',\n",
              " 'Villupuram',\n",
              " 'Villupuram',\n",
              " '',\n",
              " '28',\n",
              " 'Gingee',\n",
              " 'Kandachipuram',\n",
              " 'Marakanam',\n",
              " 'Melmalaiyanur',\n",
              " 'Thiruvennainallur',\n",
              " 'Tindivanam',\n",
              " 'Vanur',\n",
              " 'Vikravandi',\n",
              " 'Virudhunagar',\n",
              " 'Virudhunagar',\n",
              " '',\n",
              " '29',\n",
              " 'Aruppukottai',\n",
              " 'Kariyapatti',\n",
              " 'Rajapalayam',\n",
              " 'Sathur',\n",
              " 'Sivakasi',\n",
              " 'Srivilliputhur',\n",
              " 'Tiruchuli',\n",
              " 'Vembakottai',\n",
              " 'Watrap',\n",
              " 'Ariyalur',\n",
              " 'Ariyalur',\n",
              " '',\n",
              " '30',\n",
              " 'Andimadam',\n",
              " 'Sendurai',\n",
              " 'Udaiyarpalayam',\n",
              " 'Krishnagiri',\n",
              " 'Krishnagiri',\n",
              " '',\n",
              " '31',\n",
              " 'Anjetty',\n",
              " 'Bargur',\n",
              " 'Hosur',\n",
              " 'Pochampalli',\n",
              " 'Sulagiri',\n",
              " 'Thenkanikottai',\n",
              " 'Uthangarai',\n",
              " 'Avinashi',\n",
              " 'Tiruppur',\n",
              " '',\n",
              " '32',\n",
              " 'Dharapuram',\n",
              " 'Kangeyam',\n",
              " 'Madathukkulam',\n",
              " 'Oothukuli',\n",
              " 'Palladam',\n",
              " 'Tiruppur (North)',\n",
              " 'Tiruppur (South)',\n",
              " 'Udumalaipettai',\n",
              " 'Chengalpattu',\n",
              " 'Chengalpattu',\n",
              " '',\n",
              " '33',\n",
              " 'Cheyyur',\n",
              " 'Maduranthakam',\n",
              " 'Pallavaram',\n",
              " 'Tambaram',\n",
              " 'Thirukalukundram',\n",
              " 'Tiruporur',\n",
              " 'Vandalur',\n",
              " 'Kallakurichi',\n",
              " 'Kallakurichi',\n",
              " '',\n",
              " '34',\n",
              " 'Chinnaselam',\n",
              " 'Kalvarayan Hills',\n",
              " 'Sankarapuram',\n",
              " 'Tirukoilur',\n",
              " 'Ulundurpet',\n",
              " 'Arakkonam',\n",
              " 'Ranipet',\n",
              " '',\n",
              " '35',\n",
              " 'Arcot',\n",
              " 'Kalavai',\n",
              " 'Nemili',\n",
              " 'Sholingur',\n",
              " 'Walajah',\n",
              " 'Tenkasi',\n",
              " 'Tenkasi',\n",
              " '',\n",
              " '36',\n",
              " 'Alangulam',\n",
              " 'Kadayanallur',\n",
              " 'Sankarankovil',\n",
              " 'Shenkottai',\n",
              " 'Sivagiri',\n",
              " 'Thiruvengadam',\n",
              " 'Veerakeralampudur',\n",
              " 'Tirupathur',\n",
              " 'Tirupathur',\n",
              " '',\n",
              " '37',\n",
              " 'Ambur',\n",
              " 'Natrampalli',\n",
              " 'Vaniyambadi',\n",
              " 'Mayiladuthurai',\n",
              " 'Mayiladuthurai',\n",
              " '',\n",
              " '38',\n",
              " 'Kuthalam',\n",
              " 'Sirkali',\n",
              " 'Tharangambadi']"
            ]
          },
          "metadata": {},
          "execution_count": 16
        }
      ],
      "source": [
        "data"
      ]
    },
    {
      "cell_type": "code",
      "execution_count": null,
      "metadata": {
        "id": "dtUZ5y1EOPsW",
        "colab": {
          "base_uri": "https://localhost:8080/"
        },
        "outputId": "06467a89-14e8-40ba-b84d-41adb710c442"
      },
      "outputs": [
        {
          "output_type": "stream",
          "name": "stdout",
          "text": [
            "Spello training started..\n"
          ]
        },
        {
          "output_type": "stream",
          "name": "stderr",
          "text": [
            "DEBUG:spello.settings:Spello training started..\n"
          ]
        },
        {
          "output_type": "stream",
          "name": "stdout",
          "text": [
            "Context model training started ...\n"
          ]
        },
        {
          "output_type": "stream",
          "name": "stderr",
          "text": [
            "DEBUG:spello.settings:Context model training started ...\n"
          ]
        },
        {
          "output_type": "stream",
          "name": "stdout",
          "text": [
            "Symspell training started ...\n"
          ]
        },
        {
          "output_type": "stream",
          "name": "stderr",
          "text": [
            "DEBUG:spello.settings:Symspell training started ...\n"
          ]
        },
        {
          "output_type": "stream",
          "name": "stdout",
          "text": [
            "Phoneme training started ...\n"
          ]
        },
        {
          "output_type": "stream",
          "name": "stderr",
          "text": [
            "DEBUG:spello.settings:Phoneme training started ...\n"
          ]
        },
        {
          "output_type": "stream",
          "name": "stdout",
          "text": [
            "Spello training completed successfully ...\n"
          ]
        },
        {
          "output_type": "stream",
          "name": "stderr",
          "text": [
            "DEBUG:spello.settings:Spello training completed successfully ...\n"
          ]
        }
      ],
      "source": [
        "sp.train(data)"
      ]
    },
    {
      "cell_type": "code",
      "execution_count": null,
      "metadata": {
        "id": "gnrgu5txOa-K",
        "colab": {
          "base_uri": "https://localhost:8080/"
        },
        "outputId": "7cc05497-fe5c-4006-fbcc-9913efec53e4"
      },
      "outputs": [
        {
          "output_type": "stream",
          "name": "stderr",
          "text": [
            "DEBUG:spello.settings:Symspell suggestions: []\n",
            "DEBUG:spello.settings:Phoneme suggestions: [('chennai', 3), ('chennai', 3)]\n",
            "DEBUG:spello.settings:Suggestions dict from phoneme and symspell are: {'cnai': ['chennai']}\n",
            "DEBUG:spello.settings:text after context model: chennai\n",
            "DEBUG:spello.settings:Spell-correction Results {'original_text': 'cnai', 'spell_corrected_text': 'chennai', 'correction_dict': {'cnai': 'chennai'}}\n"
          ]
        }
      ],
      "source": [
        "corrected = sp.spell_correct(\"cnai\")"
      ]
    },
    {
      "cell_type": "code",
      "execution_count": null,
      "metadata": {
        "id": "l3xJhn1zYA5Q",
        "colab": {
          "base_uri": "https://localhost:8080/"
        },
        "outputId": "cdc6c09b-29b1-4157-df27-73e9acfc8313"
      },
      "outputs": [
        {
          "output_type": "stream",
          "name": "stdout",
          "text": [
            "chennai\n"
          ]
        }
      ],
      "source": [
        "c = len(corrected)\n",
        "c\n",
        "for i in corrected:\n",
        "  if i == \"spell_corrected_text\":\n",
        "    print(corrected[i])"
      ]
    },
    {
      "cell_type": "code",
      "source": [
        "df.head()"
      ],
      "metadata": {
        "id": "Yn-Az8PdyJgq",
        "colab": {
          "base_uri": "https://localhost:8080/",
          "height": 206
        },
        "outputId": "80c5e892-75cf-4fc7-d0f8-8876aff24ea0"
      },
      "execution_count": null,
      "outputs": [
        {
          "output_type": "execute_result",
          "data": {
            "text/plain": [
              "     id                                     masked_address       label\n",
              "0     2  JAI BALAJI DISTRIBUTORS, NEW MARKET SHOP NO.**...  commercial\n",
              "1   423  SUNDRAM FASTENERS LIMITED B ** SIPCOT INDUSTRI...  commercial\n",
              "2   481  Bakul-*, Shardashish Township, Torrent Power L...  commercial\n",
              "3   641  Sonkar Bhawan, Near Ashok Kirana Store, Infron...  commercial\n",
              "4  4395  jambli \\n maida factory near jambli  , jambli,...  commercial"
            ],
            "text/html": [
              "\n",
              "  <div id=\"df-a8ec3d64-8ae8-4af2-8df6-4accd5e73f31\" class=\"colab-df-container\">\n",
              "    <div>\n",
              "<style scoped>\n",
              "    .dataframe tbody tr th:only-of-type {\n",
              "        vertical-align: middle;\n",
              "    }\n",
              "\n",
              "    .dataframe tbody tr th {\n",
              "        vertical-align: top;\n",
              "    }\n",
              "\n",
              "    .dataframe thead th {\n",
              "        text-align: right;\n",
              "    }\n",
              "</style>\n",
              "<table border=\"1\" class=\"dataframe\">\n",
              "  <thead>\n",
              "    <tr style=\"text-align: right;\">\n",
              "      <th></th>\n",
              "      <th>id</th>\n",
              "      <th>masked_address</th>\n",
              "      <th>label</th>\n",
              "    </tr>\n",
              "  </thead>\n",
              "  <tbody>\n",
              "    <tr>\n",
              "      <th>0</th>\n",
              "      <td>2</td>\n",
              "      <td>JAI BALAJI DISTRIBUTORS, NEW MARKET SHOP NO.**...</td>\n",
              "      <td>commercial</td>\n",
              "    </tr>\n",
              "    <tr>\n",
              "      <th>1</th>\n",
              "      <td>423</td>\n",
              "      <td>SUNDRAM FASTENERS LIMITED B ** SIPCOT INDUSTRI...</td>\n",
              "      <td>commercial</td>\n",
              "    </tr>\n",
              "    <tr>\n",
              "      <th>2</th>\n",
              "      <td>481</td>\n",
              "      <td>Bakul-*, Shardashish Township, Torrent Power L...</td>\n",
              "      <td>commercial</td>\n",
              "    </tr>\n",
              "    <tr>\n",
              "      <th>3</th>\n",
              "      <td>641</td>\n",
              "      <td>Sonkar Bhawan, Near Ashok Kirana Store, Infron...</td>\n",
              "      <td>commercial</td>\n",
              "    </tr>\n",
              "    <tr>\n",
              "      <th>4</th>\n",
              "      <td>4395</td>\n",
              "      <td>jambli \\n maida factory near jambli  , jambli,...</td>\n",
              "      <td>commercial</td>\n",
              "    </tr>\n",
              "  </tbody>\n",
              "</table>\n",
              "</div>\n",
              "    <div class=\"colab-df-buttons\">\n",
              "\n",
              "  <div class=\"colab-df-container\">\n",
              "    <button class=\"colab-df-convert\" onclick=\"convertToInteractive('df-a8ec3d64-8ae8-4af2-8df6-4accd5e73f31')\"\n",
              "            title=\"Convert this dataframe to an interactive table.\"\n",
              "            style=\"display:none;\">\n",
              "\n",
              "  <svg xmlns=\"http://www.w3.org/2000/svg\" height=\"24px\" viewBox=\"0 -960 960 960\">\n",
              "    <path d=\"M120-120v-720h720v720H120Zm60-500h600v-160H180v160Zm220 220h160v-160H400v160Zm0 220h160v-160H400v160ZM180-400h160v-160H180v160Zm440 0h160v-160H620v160ZM180-180h160v-160H180v160Zm440 0h160v-160H620v160Z\"/>\n",
              "  </svg>\n",
              "    </button>\n",
              "\n",
              "  <style>\n",
              "    .colab-df-container {\n",
              "      display:flex;\n",
              "      gap: 12px;\n",
              "    }\n",
              "\n",
              "    .colab-df-convert {\n",
              "      background-color: #E8F0FE;\n",
              "      border: none;\n",
              "      border-radius: 50%;\n",
              "      cursor: pointer;\n",
              "      display: none;\n",
              "      fill: #1967D2;\n",
              "      height: 32px;\n",
              "      padding: 0 0 0 0;\n",
              "      width: 32px;\n",
              "    }\n",
              "\n",
              "    .colab-df-convert:hover {\n",
              "      background-color: #E2EBFA;\n",
              "      box-shadow: 0px 1px 2px rgba(60, 64, 67, 0.3), 0px 1px 3px 1px rgba(60, 64, 67, 0.15);\n",
              "      fill: #174EA6;\n",
              "    }\n",
              "\n",
              "    .colab-df-buttons div {\n",
              "      margin-bottom: 4px;\n",
              "    }\n",
              "\n",
              "    [theme=dark] .colab-df-convert {\n",
              "      background-color: #3B4455;\n",
              "      fill: #D2E3FC;\n",
              "    }\n",
              "\n",
              "    [theme=dark] .colab-df-convert:hover {\n",
              "      background-color: #434B5C;\n",
              "      box-shadow: 0px 1px 3px 1px rgba(0, 0, 0, 0.15);\n",
              "      filter: drop-shadow(0px 1px 2px rgba(0, 0, 0, 0.3));\n",
              "      fill: #FFFFFF;\n",
              "    }\n",
              "  </style>\n",
              "\n",
              "    <script>\n",
              "      const buttonEl =\n",
              "        document.querySelector('#df-a8ec3d64-8ae8-4af2-8df6-4accd5e73f31 button.colab-df-convert');\n",
              "      buttonEl.style.display =\n",
              "        google.colab.kernel.accessAllowed ? 'block' : 'none';\n",
              "\n",
              "      async function convertToInteractive(key) {\n",
              "        const element = document.querySelector('#df-a8ec3d64-8ae8-4af2-8df6-4accd5e73f31');\n",
              "        const dataTable =\n",
              "          await google.colab.kernel.invokeFunction('convertToInteractive',\n",
              "                                                    [key], {});\n",
              "        if (!dataTable) return;\n",
              "\n",
              "        const docLinkHtml = 'Like what you see? Visit the ' +\n",
              "          '<a target=\"_blank\" href=https://colab.research.google.com/notebooks/data_table.ipynb>data table notebook</a>'\n",
              "          + ' to learn more about interactive tables.';\n",
              "        element.innerHTML = '';\n",
              "        dataTable['output_type'] = 'display_data';\n",
              "        await google.colab.output.renderOutput(dataTable, element);\n",
              "        const docLink = document.createElement('div');\n",
              "        docLink.innerHTML = docLinkHtml;\n",
              "        element.appendChild(docLink);\n",
              "      }\n",
              "    </script>\n",
              "  </div>\n",
              "\n",
              "\n",
              "<div id=\"df-622300a9-705b-4176-b3f5-48e162f37c98\">\n",
              "  <button class=\"colab-df-quickchart\" onclick=\"quickchart('df-622300a9-705b-4176-b3f5-48e162f37c98')\"\n",
              "            title=\"Suggest charts\"\n",
              "            style=\"display:none;\">\n",
              "\n",
              "<svg xmlns=\"http://www.w3.org/2000/svg\" height=\"24px\"viewBox=\"0 0 24 24\"\n",
              "     width=\"24px\">\n",
              "    <g>\n",
              "        <path d=\"M19 3H5c-1.1 0-2 .9-2 2v14c0 1.1.9 2 2 2h14c1.1 0 2-.9 2-2V5c0-1.1-.9-2-2-2zM9 17H7v-7h2v7zm4 0h-2V7h2v10zm4 0h-2v-4h2v4z\"/>\n",
              "    </g>\n",
              "</svg>\n",
              "  </button>\n",
              "\n",
              "<style>\n",
              "  .colab-df-quickchart {\n",
              "      --bg-color: #E8F0FE;\n",
              "      --fill-color: #1967D2;\n",
              "      --hover-bg-color: #E2EBFA;\n",
              "      --hover-fill-color: #174EA6;\n",
              "      --disabled-fill-color: #AAA;\n",
              "      --disabled-bg-color: #DDD;\n",
              "  }\n",
              "\n",
              "  [theme=dark] .colab-df-quickchart {\n",
              "      --bg-color: #3B4455;\n",
              "      --fill-color: #D2E3FC;\n",
              "      --hover-bg-color: #434B5C;\n",
              "      --hover-fill-color: #FFFFFF;\n",
              "      --disabled-bg-color: #3B4455;\n",
              "      --disabled-fill-color: #666;\n",
              "  }\n",
              "\n",
              "  .colab-df-quickchart {\n",
              "    background-color: var(--bg-color);\n",
              "    border: none;\n",
              "    border-radius: 50%;\n",
              "    cursor: pointer;\n",
              "    display: none;\n",
              "    fill: var(--fill-color);\n",
              "    height: 32px;\n",
              "    padding: 0;\n",
              "    width: 32px;\n",
              "  }\n",
              "\n",
              "  .colab-df-quickchart:hover {\n",
              "    background-color: var(--hover-bg-color);\n",
              "    box-shadow: 0 1px 2px rgba(60, 64, 67, 0.3), 0 1px 3px 1px rgba(60, 64, 67, 0.15);\n",
              "    fill: var(--button-hover-fill-color);\n",
              "  }\n",
              "\n",
              "  .colab-df-quickchart-complete:disabled,\n",
              "  .colab-df-quickchart-complete:disabled:hover {\n",
              "    background-color: var(--disabled-bg-color);\n",
              "    fill: var(--disabled-fill-color);\n",
              "    box-shadow: none;\n",
              "  }\n",
              "\n",
              "  .colab-df-spinner {\n",
              "    border: 2px solid var(--fill-color);\n",
              "    border-color: transparent;\n",
              "    border-bottom-color: var(--fill-color);\n",
              "    animation:\n",
              "      spin 1s steps(1) infinite;\n",
              "  }\n",
              "\n",
              "  @keyframes spin {\n",
              "    0% {\n",
              "      border-color: transparent;\n",
              "      border-bottom-color: var(--fill-color);\n",
              "      border-left-color: var(--fill-color);\n",
              "    }\n",
              "    20% {\n",
              "      border-color: transparent;\n",
              "      border-left-color: var(--fill-color);\n",
              "      border-top-color: var(--fill-color);\n",
              "    }\n",
              "    30% {\n",
              "      border-color: transparent;\n",
              "      border-left-color: var(--fill-color);\n",
              "      border-top-color: var(--fill-color);\n",
              "      border-right-color: var(--fill-color);\n",
              "    }\n",
              "    40% {\n",
              "      border-color: transparent;\n",
              "      border-right-color: var(--fill-color);\n",
              "      border-top-color: var(--fill-color);\n",
              "    }\n",
              "    60% {\n",
              "      border-color: transparent;\n",
              "      border-right-color: var(--fill-color);\n",
              "    }\n",
              "    80% {\n",
              "      border-color: transparent;\n",
              "      border-right-color: var(--fill-color);\n",
              "      border-bottom-color: var(--fill-color);\n",
              "    }\n",
              "    90% {\n",
              "      border-color: transparent;\n",
              "      border-bottom-color: var(--fill-color);\n",
              "    }\n",
              "  }\n",
              "</style>\n",
              "\n",
              "  <script>\n",
              "    async function quickchart(key) {\n",
              "      const quickchartButtonEl =\n",
              "        document.querySelector('#' + key + ' button');\n",
              "      quickchartButtonEl.disabled = true;  // To prevent multiple clicks.\n",
              "      quickchartButtonEl.classList.add('colab-df-spinner');\n",
              "      try {\n",
              "        const charts = await google.colab.kernel.invokeFunction(\n",
              "            'suggestCharts', [key], {});\n",
              "      } catch (error) {\n",
              "        console.error('Error during call to suggestCharts:', error);\n",
              "      }\n",
              "      quickchartButtonEl.classList.remove('colab-df-spinner');\n",
              "      quickchartButtonEl.classList.add('colab-df-quickchart-complete');\n",
              "    }\n",
              "    (() => {\n",
              "      let quickchartButtonEl =\n",
              "        document.querySelector('#df-622300a9-705b-4176-b3f5-48e162f37c98 button');\n",
              "      quickchartButtonEl.style.display =\n",
              "        google.colab.kernel.accessAllowed ? 'block' : 'none';\n",
              "    })();\n",
              "  </script>\n",
              "</div>\n",
              "\n",
              "    </div>\n",
              "  </div>\n"
            ],
            "application/vnd.google.colaboratory.intrinsic+json": {
              "type": "dataframe",
              "variable_name": "df",
              "summary": "{\n  \"name\": \"df\",\n  \"rows\": 10601,\n  \"fields\": [\n    {\n      \"column\": \"id\",\n      \"properties\": {\n        \"dtype\": \"number\",\n        \"std\": 3060,\n        \"min\": 0,\n        \"max\": 10600,\n        \"num_unique_values\": 10601,\n        \"samples\": [\n          2735,\n          2067,\n          1451\n        ],\n        \"semantic_type\": \"\",\n        \"description\": \"\"\n      }\n    },\n    {\n      \"column\": \"masked_address\",\n      \"properties\": {\n        \"dtype\": \"string\",\n        \"num_unique_values\": 10601,\n        \"samples\": [\n          \"MORE RETAIL LTD   Survey No **/Part, NH-* Baypass, Nr Sadumalam,   PENDURTHI, GVMC, Vishakapatnam,   Vishakapatnam, AP-  , Pendurthi, Andhra Pradesh, 531173\",\n          \"Ashok NagarFATEHPUR  , FATEHPUR, Uttar Pradesh, 212601\",\n          \"Nainar kovil \\n Thiri.Maruthur  , Nainar kovil, Tamil Nadu, 623705\"\n        ],\n        \"semantic_type\": \"\",\n        \"description\": \"\"\n      }\n    },\n    {\n      \"column\": \"label\",\n      \"properties\": {\n        \"dtype\": \"category\",\n        \"num_unique_values\": 2,\n        \"samples\": [\n          \"residential\",\n          \"commercial\"\n        ],\n        \"semantic_type\": \"\",\n        \"description\": \"\"\n      }\n    }\n  ]\n}"
            }
          },
          "metadata": {},
          "execution_count": 20
        }
      ]
    },
    {
      "source": [
        "# prompt: invoke gradio for the abovve codes\n",
        "\n",
        "!pip install gradio\n",
        "!pip install textblob\n",
        "!pip install spello\n",
        "!pip install thefuzz\n",
        "\n",
        "import gradio as gr\n",
        "import numpy as np\n",
        "import pandas as pd\n",
        "from textblob import TextBlob\n",
        "from spello.model import SpellCorrectionModel\n",
        "from thefuzz import fuzz, process\n",
        "\n",
        "# Initialize SpellCorrectionModel\n",
        "sp = SpellCorrectionModel(language=\"en\")\n",
        "\n",
        "# Load data (assuming the file exists in the specified location after mounting Drive)\n",
        "with open('/content/drive/MyDrive/sc-sample1.txt', 'r') as file:\n",
        "  data = file.readlines()\n",
        "data = [i.strip() for i in data]\n",
        "sp.train(data)\n",
        "\n",
        "\n",
        "def correct_text(text):\n",
        "    tb = TextBlob(text)\n",
        "    corrected_textblob = str(tb.correct())\n",
        "    corrected_spello = sp.spell_correct(text)\n",
        "\n",
        "    corrected_text = \"\"\n",
        "    for i in corrected_spello:\n",
        "      if i == \"spell_corrected_text\":\n",
        "        corrected_text = corrected_spello[i]\n",
        "        break\n",
        "\n",
        "    return f\"TextBlob Correction: {corrected_textblob}\\nSpello Correction: {corrected_text}\"\n",
        "\n",
        "\n",
        "iface = gr.Interface(\n",
        "    fn=correct_text,\n",
        "    # Use gr.Textbox directly instead of gr.inputs.Textbox\n",
        "    inputs=gr.Textbox(lines=2, placeholder=\"Enter text here...\"),\n",
        "    outputs=\"text\",\n",
        "    title=\"Text Correction\",\n",
        "    description=\"Correct spelling errors using TextBlob and Spello.\",\n",
        ")\n",
        "\n",
        "iface.launch()"
      ],
      "cell_type": "code",
      "metadata": {
        "id": "djpEq2ruRJ9T",
        "colab": {
          "base_uri": "https://localhost:8080/",
          "height": 1000
        },
        "outputId": "7634a508-baf9-41a8-9381-834adac33a05"
      },
      "execution_count": null,
      "outputs": [
        {
          "output_type": "stream",
          "name": "stdout",
          "text": [
            "Collecting gradio\n",
            "  Downloading gradio-5.6.0-py3-none-any.whl.metadata (16 kB)\n",
            "Collecting aiofiles<24.0,>=22.0 (from gradio)\n",
            "  Downloading aiofiles-23.2.1-py3-none-any.whl.metadata (9.7 kB)\n",
            "Requirement already satisfied: anyio<5.0,>=3.0 in /usr/local/lib/python3.10/dist-packages (from gradio) (3.7.1)\n",
            "Collecting fastapi<1.0,>=0.115.2 (from gradio)\n",
            "  Downloading fastapi-0.115.5-py3-none-any.whl.metadata (27 kB)\n",
            "Collecting ffmpy (from gradio)\n",
            "  Downloading ffmpy-0.4.0-py3-none-any.whl.metadata (2.9 kB)\n",
            "Collecting gradio-client==1.4.3 (from gradio)\n",
            "  Downloading gradio_client-1.4.3-py3-none-any.whl.metadata (7.1 kB)\n",
            "Requirement already satisfied: httpx>=0.24.1 in /usr/local/lib/python3.10/dist-packages (from gradio) (0.27.2)\n",
            "Requirement already satisfied: huggingface-hub>=0.25.1 in /usr/local/lib/python3.10/dist-packages (from gradio) (0.26.2)\n",
            "Requirement already satisfied: jinja2<4.0 in /usr/local/lib/python3.10/dist-packages (from gradio) (3.1.4)\n",
            "Collecting markupsafe~=2.0 (from gradio)\n",
            "  Downloading MarkupSafe-2.1.5-cp310-cp310-manylinux_2_17_x86_64.manylinux2014_x86_64.whl.metadata (3.0 kB)\n",
            "Requirement already satisfied: numpy<3.0,>=1.0 in /usr/local/lib/python3.10/dist-packages (from gradio) (1.26.4)\n",
            "Requirement already satisfied: orjson~=3.0 in /usr/local/lib/python3.10/dist-packages (from gradio) (3.10.11)\n",
            "Requirement already satisfied: packaging in /usr/local/lib/python3.10/dist-packages (from gradio) (24.2)\n",
            "Requirement already satisfied: pandas<3.0,>=1.0 in /usr/local/lib/python3.10/dist-packages (from gradio) (2.2.2)\n",
            "Requirement already satisfied: pillow<12.0,>=8.0 in /usr/local/lib/python3.10/dist-packages (from gradio) (11.0.0)\n",
            "Requirement already satisfied: pydantic>=2.0 in /usr/local/lib/python3.10/dist-packages (from gradio) (2.9.2)\n",
            "Collecting pydub (from gradio)\n",
            "  Downloading pydub-0.25.1-py2.py3-none-any.whl.metadata (1.4 kB)\n",
            "Collecting python-multipart==0.0.12 (from gradio)\n",
            "  Downloading python_multipart-0.0.12-py3-none-any.whl.metadata (1.9 kB)\n",
            "Requirement already satisfied: pyyaml<7.0,>=5.0 in /usr/local/lib/python3.10/dist-packages (from gradio) (6.0.2)\n",
            "Collecting ruff>=0.2.2 (from gradio)\n",
            "  Downloading ruff-0.7.4-py3-none-manylinux_2_17_x86_64.manylinux2014_x86_64.whl.metadata (25 kB)\n",
            "Collecting safehttpx<1.0,>=0.1.1 (from gradio)\n",
            "  Downloading safehttpx-0.1.1-py3-none-any.whl.metadata (4.1 kB)\n",
            "Collecting semantic-version~=2.0 (from gradio)\n",
            "  Downloading semantic_version-2.10.0-py2.py3-none-any.whl.metadata (9.7 kB)\n",
            "Collecting starlette<1.0,>=0.40.0 (from gradio)\n",
            "  Downloading starlette-0.41.2-py3-none-any.whl.metadata (6.0 kB)\n",
            "Collecting tomlkit==0.12.0 (from gradio)\n",
            "  Downloading tomlkit-0.12.0-py3-none-any.whl.metadata (2.7 kB)\n",
            "Requirement already satisfied: typer<1.0,>=0.12 in /usr/local/lib/python3.10/dist-packages (from gradio) (0.13.0)\n",
            "Requirement already satisfied: typing-extensions~=4.0 in /usr/local/lib/python3.10/dist-packages (from gradio) (4.12.2)\n",
            "Collecting uvicorn>=0.14.0 (from gradio)\n",
            "  Downloading uvicorn-0.32.0-py3-none-any.whl.metadata (6.6 kB)\n",
            "Requirement already satisfied: fsspec in /usr/local/lib/python3.10/dist-packages (from gradio-client==1.4.3->gradio) (2024.10.0)\n",
            "Collecting websockets<13.0,>=10.0 (from gradio-client==1.4.3->gradio)\n",
            "  Downloading websockets-12.0-cp310-cp310-manylinux_2_5_x86_64.manylinux1_x86_64.manylinux_2_17_x86_64.manylinux2014_x86_64.whl.metadata (6.6 kB)\n",
            "Requirement already satisfied: idna>=2.8 in /usr/local/lib/python3.10/dist-packages (from anyio<5.0,>=3.0->gradio) (3.10)\n",
            "Requirement already satisfied: sniffio>=1.1 in /usr/local/lib/python3.10/dist-packages (from anyio<5.0,>=3.0->gradio) (1.3.1)\n",
            "Requirement already satisfied: exceptiongroup in /usr/local/lib/python3.10/dist-packages (from anyio<5.0,>=3.0->gradio) (1.2.2)\n",
            "Requirement already satisfied: certifi in /usr/local/lib/python3.10/dist-packages (from httpx>=0.24.1->gradio) (2024.8.30)\n",
            "Requirement already satisfied: httpcore==1.* in /usr/local/lib/python3.10/dist-packages (from httpx>=0.24.1->gradio) (1.0.6)\n",
            "Requirement already satisfied: h11<0.15,>=0.13 in /usr/local/lib/python3.10/dist-packages (from httpcore==1.*->httpx>=0.24.1->gradio) (0.14.0)\n",
            "Requirement already satisfied: filelock in /usr/local/lib/python3.10/dist-packages (from huggingface-hub>=0.25.1->gradio) (3.16.1)\n",
            "Requirement already satisfied: requests in /usr/local/lib/python3.10/dist-packages (from huggingface-hub>=0.25.1->gradio) (2.32.3)\n",
            "Requirement already satisfied: tqdm>=4.42.1 in /usr/local/lib/python3.10/dist-packages (from huggingface-hub>=0.25.1->gradio) (4.66.6)\n",
            "Requirement already satisfied: python-dateutil>=2.8.2 in /usr/local/lib/python3.10/dist-packages (from pandas<3.0,>=1.0->gradio) (2.8.2)\n",
            "Requirement already satisfied: pytz>=2020.1 in /usr/local/lib/python3.10/dist-packages (from pandas<3.0,>=1.0->gradio) (2024.2)\n",
            "Requirement already satisfied: tzdata>=2022.7 in /usr/local/lib/python3.10/dist-packages (from pandas<3.0,>=1.0->gradio) (2024.2)\n",
            "Requirement already satisfied: annotated-types>=0.6.0 in /usr/local/lib/python3.10/dist-packages (from pydantic>=2.0->gradio) (0.7.0)\n",
            "Requirement already satisfied: pydantic-core==2.23.4 in /usr/local/lib/python3.10/dist-packages (from pydantic>=2.0->gradio) (2.23.4)\n",
            "Requirement already satisfied: click>=8.0.0 in /usr/local/lib/python3.10/dist-packages (from typer<1.0,>=0.12->gradio) (8.1.7)\n",
            "Requirement already satisfied: shellingham>=1.3.0 in /usr/local/lib/python3.10/dist-packages (from typer<1.0,>=0.12->gradio) (1.5.4)\n",
            "Requirement already satisfied: rich>=10.11.0 in /usr/local/lib/python3.10/dist-packages (from typer<1.0,>=0.12->gradio) (13.9.4)\n",
            "Requirement already satisfied: six>=1.5 in /usr/local/lib/python3.10/dist-packages (from python-dateutil>=2.8.2->pandas<3.0,>=1.0->gradio) (1.16.0)\n",
            "Requirement already satisfied: markdown-it-py>=2.2.0 in /usr/local/lib/python3.10/dist-packages (from rich>=10.11.0->typer<1.0,>=0.12->gradio) (3.0.0)\n",
            "Requirement already satisfied: pygments<3.0.0,>=2.13.0 in /usr/local/lib/python3.10/dist-packages (from rich>=10.11.0->typer<1.0,>=0.12->gradio) (2.18.0)\n",
            "Requirement already satisfied: charset-normalizer<4,>=2 in /usr/local/lib/python3.10/dist-packages (from requests->huggingface-hub>=0.25.1->gradio) (3.4.0)\n",
            "Requirement already satisfied: urllib3<3,>=1.21.1 in /usr/local/lib/python3.10/dist-packages (from requests->huggingface-hub>=0.25.1->gradio) (2.2.3)\n",
            "Requirement already satisfied: mdurl~=0.1 in /usr/local/lib/python3.10/dist-packages (from markdown-it-py>=2.2.0->rich>=10.11.0->typer<1.0,>=0.12->gradio) (0.1.2)\n",
            "Downloading gradio-5.6.0-py3-none-any.whl (57.1 MB)\n",
            "\u001b[2K   \u001b[90m━━━━━━━━━━━━━━━━━━━━━━━━━━━━━━━━━━━━━━━━\u001b[0m \u001b[32m57.1/57.1 MB\u001b[0m \u001b[31m12.4 MB/s\u001b[0m eta \u001b[36m0:00:00\u001b[0m\n",
            "\u001b[?25hDownloading gradio_client-1.4.3-py3-none-any.whl (320 kB)\n",
            "\u001b[2K   \u001b[90m━━━━━━━━━━━━━━━━━━━━━━━━━━━━━━━━━━━━━━━━\u001b[0m \u001b[32m320.1/320.1 kB\u001b[0m \u001b[31m13.8 MB/s\u001b[0m eta \u001b[36m0:00:00\u001b[0m\n",
            "\u001b[?25hDownloading python_multipart-0.0.12-py3-none-any.whl (23 kB)\n",
            "Downloading tomlkit-0.12.0-py3-none-any.whl (37 kB)\n",
            "Downloading aiofiles-23.2.1-py3-none-any.whl (15 kB)\n",
            "Downloading fastapi-0.115.5-py3-none-any.whl (94 kB)\n",
            "\u001b[2K   \u001b[90m━━━━━━━━━━━━━━━━━━━━━━━━━━━━━━━━━━━━━━━━\u001b[0m \u001b[32m94.9/94.9 kB\u001b[0m \u001b[31m7.4 MB/s\u001b[0m eta \u001b[36m0:00:00\u001b[0m\n",
            "\u001b[?25hDownloading MarkupSafe-2.1.5-cp310-cp310-manylinux_2_17_x86_64.manylinux2014_x86_64.whl (25 kB)\n",
            "Downloading ruff-0.7.4-py3-none-manylinux_2_17_x86_64.manylinux2014_x86_64.whl (11.1 MB)\n",
            "\u001b[2K   \u001b[90m━━━━━━━━━━━━━━━━━━━━━━━━━━━━━━━━━━━━━━━━\u001b[0m \u001b[32m11.1/11.1 MB\u001b[0m \u001b[31m26.7 MB/s\u001b[0m eta \u001b[36m0:00:00\u001b[0m\n",
            "\u001b[?25hDownloading safehttpx-0.1.1-py3-none-any.whl (8.4 kB)\n",
            "Downloading semantic_version-2.10.0-py2.py3-none-any.whl (15 kB)\n",
            "Downloading starlette-0.41.2-py3-none-any.whl (73 kB)\n",
            "\u001b[2K   \u001b[90m━━━━━━━━━━━━━━━━━━━━━━━━━━━━━━━━━━━━━━━━\u001b[0m \u001b[32m73.3/73.3 kB\u001b[0m \u001b[31m4.4 MB/s\u001b[0m eta \u001b[36m0:00:00\u001b[0m\n",
            "\u001b[?25hDownloading uvicorn-0.32.0-py3-none-any.whl (63 kB)\n",
            "\u001b[2K   \u001b[90m━━━━━━━━━━━━━━━━━━━━━━━━━━━━━━━━━━━━━━━━\u001b[0m \u001b[32m63.7/63.7 kB\u001b[0m \u001b[31m6.4 MB/s\u001b[0m eta \u001b[36m0:00:00\u001b[0m\n",
            "\u001b[?25hDownloading ffmpy-0.4.0-py3-none-any.whl (5.8 kB)\n",
            "Downloading pydub-0.25.1-py2.py3-none-any.whl (32 kB)\n",
            "Downloading websockets-12.0-cp310-cp310-manylinux_2_5_x86_64.manylinux1_x86_64.manylinux_2_17_x86_64.manylinux2014_x86_64.whl (130 kB)\n",
            "\u001b[2K   \u001b[90m━━━━━━━━━━━━━━━━━━━━━━━━━━━━━━━━━━━━━━━━\u001b[0m \u001b[32m130.2/130.2 kB\u001b[0m \u001b[31m5.1 MB/s\u001b[0m eta \u001b[36m0:00:00\u001b[0m\n",
            "\u001b[?25hInstalling collected packages: pydub, websockets, uvicorn, tomlkit, semantic-version, ruff, python-multipart, markupsafe, ffmpy, aiofiles, starlette, safehttpx, gradio-client, fastapi, gradio\n",
            "  Attempting uninstall: markupsafe\n",
            "    Found existing installation: MarkupSafe 3.0.2\n",
            "    Uninstalling MarkupSafe-3.0.2:\n",
            "      Successfully uninstalled MarkupSafe-3.0.2\n",
            "Successfully installed aiofiles-23.2.1 fastapi-0.115.5 ffmpy-0.4.0 gradio-5.6.0 gradio-client-1.4.3 markupsafe-2.1.5 pydub-0.25.1 python-multipart-0.0.12 ruff-0.7.4 safehttpx-0.1.1 semantic-version-2.10.0 starlette-0.41.2 tomlkit-0.12.0 uvicorn-0.32.0 websockets-12.0\n",
            "Requirement already satisfied: textblob in /usr/local/lib/python3.10/dist-packages (0.17.1)\n",
            "Requirement already satisfied: nltk>=3.1 in /usr/local/lib/python3.10/dist-packages (from textblob) (3.9.1)\n",
            "Requirement already satisfied: click in /usr/local/lib/python3.10/dist-packages (from nltk>=3.1->textblob) (8.1.7)\n",
            "Requirement already satisfied: joblib in /usr/local/lib/python3.10/dist-packages (from nltk>=3.1->textblob) (1.4.2)\n",
            "Requirement already satisfied: regex>=2021.8.3 in /usr/local/lib/python3.10/dist-packages (from nltk>=3.1->textblob) (2024.9.11)\n",
            "Requirement already satisfied: tqdm in /usr/local/lib/python3.10/dist-packages (from nltk>=3.1->textblob) (4.66.6)\n",
            "Collecting spello\n",
            "  Downloading spello-1.3.0-py3-none-any.whl.metadata (8.6 kB)\n",
            "Requirement already satisfied: nltk<4,>=3.4.5 in /usr/local/lib/python3.10/dist-packages (from spello) (3.9.1)\n",
            "Requirement already satisfied: click in /usr/local/lib/python3.10/dist-packages (from nltk<4,>=3.4.5->spello) (8.1.7)\n",
            "Requirement already satisfied: joblib in /usr/local/lib/python3.10/dist-packages (from nltk<4,>=3.4.5->spello) (1.4.2)\n",
            "Requirement already satisfied: regex>=2021.8.3 in /usr/local/lib/python3.10/dist-packages (from nltk<4,>=3.4.5->spello) (2024.9.11)\n",
            "Requirement already satisfied: tqdm in /usr/local/lib/python3.10/dist-packages (from nltk<4,>=3.4.5->spello) (4.66.6)\n",
            "Downloading spello-1.3.0-py3-none-any.whl (25 kB)\n",
            "Installing collected packages: spello\n",
            "Successfully installed spello-1.3.0\n",
            "Collecting thefuzz\n",
            "  Downloading thefuzz-0.22.1-py3-none-any.whl.metadata (3.9 kB)\n",
            "Collecting rapidfuzz<4.0.0,>=3.0.0 (from thefuzz)\n",
            "  Downloading rapidfuzz-3.10.1-cp310-cp310-manylinux_2_17_x86_64.manylinux2014_x86_64.whl.metadata (11 kB)\n",
            "Downloading thefuzz-0.22.1-py3-none-any.whl (8.2 kB)\n",
            "Downloading rapidfuzz-3.10.1-cp310-cp310-manylinux_2_17_x86_64.manylinux2014_x86_64.whl (3.1 MB)\n",
            "\u001b[2K   \u001b[90m━━━━━━━━━━━━━━━━━━━━━━━━━━━━━━━━━━━━━━━━\u001b[0m \u001b[32m3.1/3.1 MB\u001b[0m \u001b[31m8.7 MB/s\u001b[0m eta \u001b[36m0:00:00\u001b[0m\n",
            "\u001b[?25hInstalling collected packages: rapidfuzz, thefuzz\n",
            "Successfully installed rapidfuzz-3.10.1 thefuzz-0.22.1\n",
            "Spello training started..\n"
          ]
        },
        {
          "output_type": "stream",
          "name": "stderr",
          "text": [
            "DEBUG:spello.settings:Spello training started..\n"
          ]
        },
        {
          "output_type": "stream",
          "name": "stdout",
          "text": [
            "Context model training started ...\n"
          ]
        },
        {
          "output_type": "stream",
          "name": "stderr",
          "text": [
            "DEBUG:spello.settings:Context model training started ...\n"
          ]
        },
        {
          "output_type": "stream",
          "name": "stdout",
          "text": [
            "Symspell training started ...\n"
          ]
        },
        {
          "output_type": "stream",
          "name": "stderr",
          "text": [
            "DEBUG:spello.settings:Symspell training started ...\n"
          ]
        },
        {
          "output_type": "stream",
          "name": "stdout",
          "text": [
            "Phoneme training started ...\n"
          ]
        },
        {
          "output_type": "stream",
          "name": "stderr",
          "text": [
            "DEBUG:spello.settings:Phoneme training started ...\n"
          ]
        },
        {
          "output_type": "stream",
          "name": "stdout",
          "text": [
            "Spello training completed successfully ...\n"
          ]
        },
        {
          "output_type": "stream",
          "name": "stderr",
          "text": [
            "DEBUG:spello.settings:Spello training completed successfully ...\n"
          ]
        },
        {
          "output_type": "stream",
          "name": "stdout",
          "text": [
            "Running Gradio in a Colab notebook requires sharing enabled. Automatically setting `share=True` (you can turn this off by setting `share=False` in `launch()` explicitly).\n",
            "\n",
            "Colab notebook detected. To show errors in colab notebook, set debug=True in launch()\n",
            "* Running on public URL: https://181d7e563bb37f5b00.gradio.live\n",
            "\n",
            "This share link expires in 72 hours. For free permanent hosting and GPU upgrades, run `gradio deploy` from the terminal in the working directory to deploy to Hugging Face Spaces (https://huggingface.co/spaces)\n"
          ]
        },
        {
          "output_type": "display_data",
          "data": {
            "text/plain": [
              "<IPython.core.display.HTML object>"
            ],
            "text/html": [
              "<div><iframe src=\"https://181d7e563bb37f5b00.gradio.live\" width=\"100%\" height=\"500\" allow=\"autoplay; camera; microphone; clipboard-read; clipboard-write;\" frameborder=\"0\" allowfullscreen></iframe></div>"
            ]
          },
          "metadata": {}
        },
        {
          "output_type": "execute_result",
          "data": {
            "text/plain": []
          },
          "metadata": {},
          "execution_count": 1
        }
      ]
    },
    {
      "cell_type": "markdown",
      "metadata": {
        "id": "07a6-_8Z83K8"
      },
      "source": [
        "https://youtu.be/PY_N1XdFp4w?si=BpBTY1W_QjpicOb7 - Extract Text From Images in Python (OCR)\n",
        "https://youtu.be/A-oaNWzAmNA?si=s3eOfm0s-aiz89uN - Make Images Readable Again in Python"
      ]
    }
  ],
  "metadata": {
    "colab": {
      "provenance": []
    },
    "kernelspec": {
      "display_name": "Python 3",
      "name": "python3"
    },
    "language_info": {
      "name": "python"
    }
  },
  "nbformat": 4,
  "nbformat_minor": 0
}